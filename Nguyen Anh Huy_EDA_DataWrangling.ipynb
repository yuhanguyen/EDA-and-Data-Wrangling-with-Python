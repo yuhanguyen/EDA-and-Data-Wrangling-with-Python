{
  "nbformat": 4,
  "nbformat_minor": 0,
  "metadata": {
    "colab": {
      "provenance": []
    },
    "kernelspec": {
      "name": "python3",
      "display_name": "Python 3"
    },
    "language_info": {
      "name": "python"
    }
  },
  "cells": [
    {
      "cell_type": "markdown",
      "source": [
        "Part I: EDA\n",
        "Do EDA task:\n",
        "1. Df payment_enriched (Merge payment_report.csv with product.csv)\n",
        "2. Df transactions\n",
        "\n",
        "Suggestions:\n",
        "1. Check each column: missing data? duplicates? incorrect data types?\n",
        "2. Summarize numerical data: any incorrect values?\n",
        "\n",
        "Sample Answers:\n",
        "- Incorrect data types: column A, column B -> Next step: No action/ Delete rows/…\n",
        "- Incorrect values: column A, column B -> Next step: No action/ Delete rows/…\n",
        "- Missing data: x rows in column A, y rows in column B -> Next step: No action/ Delete rows/…\n",
        "- Duplicates: PK? x rows? -> Next step: No action/ Delete rows/…\n",
        "\n"
      ],
      "metadata": {
        "id": "tqLc_viDhEe4"
      }
    },
    {
      "cell_type": "code",
      "execution_count": null,
      "metadata": {
        "id": "jTp-gdjGg7XG"
      },
      "outputs": [],
      "source": [
        "import pandas as pd\n",
        "import numpy as np\n",
        "\n",
        "# define payment_enriched, transactions\n",
        "transactions = pd.read_csv('transactions.csv')\n",
        "payment_report = pd.read_csv('payment_report.csv')\n",
        "product = pd.read_csv('product.csv')\n",
        "\n",
        "payment_enriched = pd.merge(payment_report, product, on=\"product_id\")"
      ]
    },
    {
      "cell_type": "code",
      "source": [
        "# Checking Data types\n",
        "payment_enriched.info()\n",
        "transactions.info()"
      ],
      "metadata": {
        "colab": {
          "base_uri": "https://localhost:8080/"
        },
        "id": "y9xeHabzmIn5",
        "outputId": "415603ab-9ac7-45e9-935a-4b126daa4ed7"
      },
      "execution_count": null,
      "outputs": [
        {
          "output_type": "stream",
          "name": "stdout",
          "text": [
            "<class 'pandas.core.frame.DataFrame'>\n",
            "RangeIndex: 897 entries, 0 to 896\n",
            "Data columns (total 7 columns):\n",
            " #   Column         Non-Null Count  Dtype \n",
            "---  ------         --------------  ----- \n",
            " 0   report_month   897 non-null    object\n",
            " 1   payment_group  897 non-null    object\n",
            " 2   product_id     897 non-null    int64 \n",
            " 3   source_id      897 non-null    int64 \n",
            " 4   volume         897 non-null    int64 \n",
            " 5   category       897 non-null    object\n",
            " 6   team_own       897 non-null    object\n",
            "dtypes: int64(3), object(4)\n",
            "memory usage: 49.2+ KB\n",
            "<class 'pandas.core.frame.DataFrame'>\n",
            "RangeIndex: 1324002 entries, 0 to 1324001\n",
            "Data columns (total 9 columns):\n",
            " #   Column          Non-Null Count    Dtype  \n",
            "---  ------          --------------    -----  \n",
            " 0   transaction_id  1324002 non-null  int64  \n",
            " 1   merchant_id     1324002 non-null  int64  \n",
            " 2   volume          1324002 non-null  int64  \n",
            " 3   transType       1324002 non-null  int64  \n",
            " 4   transStatus     1324002 non-null  int64  \n",
            " 5   sender_id       1274943 non-null  float64\n",
            " 6   receiver_id     1159207 non-null  float64\n",
            " 7   extra_info      6095 non-null     object \n",
            " 8   timeStamp       1324002 non-null  int64  \n",
            "dtypes: float64(2), int64(6), object(1)\n",
            "memory usage: 90.9+ MB\n"
          ]
        }
      ]
    },
    {
      "cell_type": "code",
      "source": [
        "# Convert report_month to datetime type\n",
        "payment_enriched['report_month'] = pd.to_datetime(payment_enriched['report_month'], format = '%Y-%m')\n",
        "\n",
        "# Convert product_id & source_id to string for iteration\n",
        "payment_enriched['product_id'] = payment_enriched['product_id'].astype(str)\n",
        "payment_enriched['source_id'] = payment_enriched['source_id'].astype(str)"
      ],
      "metadata": {
        "id": "Ldc9LCkjsyMv"
      },
      "execution_count": null,
      "outputs": []
    },
    {
      "cell_type": "code",
      "source": [
        "# Checking Missing values\n",
        "print(payment_enriched.isnull().sum())\n",
        "print(transactions.isnull().sum())"
      ],
      "metadata": {
        "colab": {
          "base_uri": "https://localhost:8080/"
        },
        "id": "l9S-4pFjmyCq",
        "outputId": "27dadbb7-2156-423c-ef1d-47e5a42bf617"
      },
      "execution_count": null,
      "outputs": [
        {
          "output_type": "stream",
          "name": "stdout",
          "text": [
            "report_month     0\n",
            "payment_group    0\n",
            "product_id       0\n",
            "source_id        0\n",
            "volume           0\n",
            "category         0\n",
            "team_own         0\n",
            "dtype: int64\n",
            "transaction_id          0\n",
            "merchant_id             0\n",
            "volume                  0\n",
            "transType               0\n",
            "transStatus             0\n",
            "sender_id           49059\n",
            "receiver_id        164795\n",
            "extra_info        1317907\n",
            "timeStamp               0\n",
            "dtype: int64\n"
          ]
        }
      ]
    },
    {
      "cell_type": "code",
      "source": [
        "# Checking duplicates\n",
        "print(transactions.duplicated())\n",
        "print(payment_enriched.duplicated())"
      ],
      "metadata": {
        "colab": {
          "base_uri": "https://localhost:8080/"
        },
        "id": "iQVM0guYp7aG",
        "outputId": "9fd87a60-4212-468f-86eb-148dc983f8f9"
      },
      "execution_count": null,
      "outputs": [
        {
          "output_type": "stream",
          "name": "stdout",
          "text": [
            "0          False\n",
            "1          False\n",
            "2          False\n",
            "3          False\n",
            "4          False\n",
            "           ...  \n",
            "1323997    False\n",
            "1323998    False\n",
            "1323999    False\n",
            "1324000    False\n",
            "1324001    False\n",
            "Length: 1324002, dtype: bool\n",
            "0      False\n",
            "1      False\n",
            "2      False\n",
            "3      False\n",
            "4      False\n",
            "       ...  \n",
            "892    False\n",
            "893    False\n",
            "894    False\n",
            "895    False\n",
            "896    False\n",
            "Length: 897, dtype: bool\n"
          ]
        }
      ]
    },
    {
      "cell_type": "code",
      "source": [
        "# Check values\n",
        "print(transactions.describe())"
      ],
      "metadata": {
        "colab": {
          "base_uri": "https://localhost:8080/"
        },
        "id": "eKHjJJGsJLOo",
        "outputId": "aea06f01-7272-4e40-b2d9-cfcb903d0073"
      },
      "execution_count": null,
      "outputs": [
        {
          "output_type": "stream",
          "name": "stdout",
          "text": [
            "       transaction_id   merchant_id        volume     transType   transStatus  \\\n",
            "count    1.324002e+06  1.324002e+06  1.324002e+06  1.324002e+06  1.324002e+06   \n",
            "mean     3.002233e+09  2.460318e+03  2.388059e+05  6.979222e+00 -1.204625e+01   \n",
            "std      1.042606e+07  3.304277e+03  9.681009e+05  7.459714e+00  5.577823e+01   \n",
            "min      3.000000e+09  5.000000e+00  1.000000e+00  2.000000e+00 -1.333000e+03   \n",
            "25%      3.001121e+09  3.050000e+02  1.000000e+04  2.000000e+00  1.000000e+00   \n",
            "50%      3.002200e+09  2.250000e+03  3.000000e+04  2.000000e+00  1.000000e+00   \n",
            "75%      3.003255e+09  2.270000e+03  1.000000e+05  8.000000e+00  1.000000e+00   \n",
            "max      6.000066e+09  1.625250e+05  7.869148e+07  3.000000e+01  1.000000e+00   \n",
            "\n",
            "          sender_id   receiver_id     timeStamp  \n",
            "count  1.274943e+06  1.159207e+06  1.324002e+06  \n",
            "mean   1.033938e+08  2.084884e+08  1.683130e+12  \n",
            "std    6.234305e+08  9.287794e+08  1.707815e+08  \n",
            "min    1.000001e+07 -6.300000e+01  1.682874e+12  \n",
            "25%    1.005657e+07  1.526700e+05  1.682994e+12  \n",
            "50%    1.094193e+07  7.025130e+06  1.683097e+12  \n",
            "75%    2.101266e+07  3.151238e+07  1.683269e+12  \n",
            "max    6.993439e+09  2.100000e+10  1.683479e+12  \n"
          ]
        }
      ]
    },
    {
      "cell_type": "markdown",
      "source": [
        "Part II: Data Wrangling\n",
        "Using payment_report.csv & product.csv\n",
        "1. Top 3 product_ids with the highest volume.\n",
        "2. Given that 1 product_id is only owed by 1 team, are there any abnormal products against this rule?\n",
        "3. Find the team has had the lowest performance (lowest volume) since Q2.2023. Find the category that contributes the least to that team.\n",
        "4. Find the contribution of source_ids of refund transactions (payment_group = ‘refund’), what is the source_id with the highest contribution?\n",
        "\n",
        "5. Using transactions.csv\n",
        "Define type of transactions (‘transaction_type’) for each row, given:\n",
        "- transType = 2 & merchant_id = 1205: Bank Transfer Transaction\n",
        "- transType = 2 & merchant_id = 2260: Withdraw Money Transaction\n",
        "- transType = 2 & merchant_id = 2270: Top Up Money Transaction\n",
        "- transType = 2 & others merchant_id: Payment Transaction\n",
        "- transType = 8, merchant_id = 2250: Transfer Money Transaction\n",
        "- transType = 8 & others merchant_id: Split Bill Transaction\n",
        "- Remained cases are invalid transactions\n",
        "6. Of each transaction type (excluding invalid transactions): find the number of transactions, volume, senders and receivers."
      ],
      "metadata": {
        "id": "2jFegftdQMUG"
      }
    },
    {
      "cell_type": "code",
      "source": [
        "# 1. Top 3 product_ids with the highest volume\n",
        "\n",
        "# group volume by product_id\n",
        "df_top3 = payment_report.groupby('product_id')['volume'].sum()\n",
        "\n",
        "# sort value decending\n",
        "df_top3 = df_top3.sort_values(ascending=False)\n",
        "\n",
        "# print top 3\n",
        "print(df_top3.head(3))\n"
      ],
      "metadata": {
        "colab": {
          "base_uri": "https://localhost:8080/"
        },
        "id": "K-9qfo6QWgbl",
        "outputId": "e8ae7efa-d62f-44fa-fb2c-5186e5f2d7e1"
      },
      "execution_count": null,
      "outputs": [
        {
          "output_type": "stream",
          "name": "stdout",
          "text": [
            "product_id\n",
            "1976    61797583647\n",
            "429     14667676567\n",
            "372     13713658515\n",
            "Name: volume, dtype: int64\n"
          ]
        }
      ]
    },
    {
      "cell_type": "code",
      "source": [
        "# 2. Given that 1 product_id is only owed by 1 team, are there any abnormal products against this rule?\n",
        "\n",
        "# group team by product_id\n",
        "df_product_team = payment_enriched.groupby('product_id', as_index=False)['team_own'].nunique()\n",
        "\n",
        "# abnormal products\n",
        "print(df_product_team[df_product_team['team_own'] != 1])\n",
        "\n",
        "\n",
        "\n"
      ],
      "metadata": {
        "colab": {
          "base_uri": "https://localhost:8080/"
        },
        "id": "hSxTgNm4YRZ8",
        "outputId": "c2390a85-1924-4dc6-b9c8-16851ba501e3"
      },
      "execution_count": null,
      "outputs": [
        {
          "output_type": "stream",
          "name": "stdout",
          "text": [
            "Empty DataFrame\n",
            "Columns: [product_id, team_own]\n",
            "Index: []\n"
          ]
        }
      ]
    },
    {
      "cell_type": "code",
      "source": [
        "# 3. Find the team has had the lowest performance (lowest volume) since Q2.2023. Find the category that contributes the least to that team.\n",
        "\n",
        "# filter value since 2023-04\n",
        "df_team_volume = payment_enriched[(payment_enriched['report_month'] >= '2023-04-01')]\n",
        "\n",
        "# group volume by team_own\n",
        "df_team_volume = df_team_volume.groupby('team_own')['volume'].sum()\n",
        "\n",
        "# sorting value\n",
        "df_team_volume = df_team_volume.sort_values(ascending=True)\n",
        "\n",
        "print(df_team_volume.head(1))\n",
        "\n",
        "# filter volume & category by team APS and since 2023-04\n",
        "df_aps = payment_enriched[(payment_enriched['team_own'] == 'APS') & (payment_enriched['report_month'] >= '2023-04-01')]\n",
        "\n",
        "# group volume by category\n",
        "df_aps = df_aps.groupby('category')['volume'].sum()\n",
        "\n",
        "# sorting value\n",
        "df_aps = df_aps.sort_values(ascending=True)\n",
        "\n",
        "# find the category with lowest volume\n",
        "print(df_aps.head(1))\n",
        "\n",
        "\n",
        "\n"
      ],
      "metadata": {
        "colab": {
          "base_uri": "https://localhost:8080/"
        },
        "id": "OzygXIbO1vOK",
        "outputId": "7f72a611-32e8-4d7b-f42a-adfaef2f8efb"
      },
      "execution_count": null,
      "outputs": [
        {
          "output_type": "stream",
          "name": "stdout",
          "text": [
            "team_own\n",
            "APS    51141753\n",
            "Name: volume, dtype: int64\n",
            "category\n",
            "PXXXXXE    25232438\n",
            "Name: volume, dtype: int64\n"
          ]
        }
      ]
    },
    {
      "cell_type": "code",
      "source": [
        "# 4. Find the contribution of source_ids of refund transactions (payment_group = ‘refund’), what is the source_id with the highest contribution?\n",
        "\n",
        "# filter value for refund transactions\n",
        "df_refund = payment_report[payment_report['payment_group'] == 'refund']\n",
        "\n",
        "# group source_id by sum\n",
        "df_refund = df_refund.groupby('source_id')['volume'].sum()\n",
        "\n",
        "# sort value decending\n",
        "df_refund = df_refund.sort_values(ascending=False)\n",
        "\n",
        "print(df_refund.head(1))\n",
        "\n"
      ],
      "metadata": {
        "colab": {
          "base_uri": "https://localhost:8080/"
        },
        "id": "Xj-mkJvd41u2",
        "outputId": "399f7661-7ef0-4c7d-ee57-5f345dc837f4"
      },
      "execution_count": null,
      "outputs": [
        {
          "output_type": "stream",
          "name": "stdout",
          "text": [
            "source_id\n",
            "38    36527454759\n",
            "Name: volume, dtype: int64\n"
          ]
        }
      ]
    },
    {
      "cell_type": "code",
      "source": [
        "# 5. Using transactions.csv Define type of transactions (‘transaction_type’) for each row\n",
        "\n",
        "# df transaction_type\n",
        "def transaction_type(row):\n",
        "  if row['transType'] == 2 and row['merchant_id'] == 1205:\n",
        "    return 'Bank Transfer Transaction'\n",
        "  elif row['transType'] == 2 and row['merchant_id'] == 2260:\n",
        "    return 'Withdraw Money Transaction'\n",
        "  elif row['transType'] == 2 and row['merchant_id'] == 2270:\n",
        "    return 'Top Up Money Transaction'\n",
        "  elif row['transType'] == 2:\n",
        "    return 'Payment Transaction'\n",
        "  elif row['transType'] == 8 and row['merchant_id'] == 2250:\n",
        "    return 'Transfer Money Transaction'\n",
        "  elif row['transType'] == 8:\n",
        "    return 'Split Bill Transaction'\n",
        "  else:\n",
        "    return 'Invalid'\n",
        "transactions['transaction_type'] = transactions.apply(transaction_type, axis=1)\n",
        "\n",
        "print(transactions[['transType', 'merchant_id' ,'transaction_type']])\n",
        "\n",
        "\n"
      ],
      "metadata": {
        "id": "4r9lk54sbe5E",
        "colab": {
          "base_uri": "https://localhost:8080/"
        },
        "outputId": "9539ff2e-6786-4705-96a6-5eda482ba6ac"
      },
      "execution_count": null,
      "outputs": [
        {
          "output_type": "stream",
          "name": "stdout",
          "text": [
            "         transType  merchant_id            transaction_type\n",
            "0               24            5                     Invalid\n",
            "1                2          305         Payment Transaction\n",
            "2               22         7255                     Invalid\n",
            "3                2         2270    Top Up Money Transaction\n",
            "4                2         2275         Payment Transaction\n",
            "...            ...          ...                         ...\n",
            "1323997          2          305         Payment Transaction\n",
            "1323998          2         2270    Top Up Money Transaction\n",
            "1323999          2         2270    Top Up Money Transaction\n",
            "1324000         22            5                     Invalid\n",
            "1324001          8         2250  Transfer Money Transaction\n",
            "\n",
            "[1324002 rows x 3 columns]\n"
          ]
        }
      ]
    },
    {
      "cell_type": "code",
      "source": [
        "# 6. Of each transaction type (excluding invalid transactions): find the number of transactions, volume, senders and receivers.\n",
        "# filter data to exclude invalid transaction type\n",
        "transactions = transactions[transactions['transaction_type'] != 'Invalid']\n",
        "\n",
        "transactions = transactions.groupby('transaction_type').agg({'transaction_id': 'count', 'volume': 'sum', 'sender_id': 'nunique', 'receiver_id': 'nunique'})\n",
        "print(transactions)"
      ],
      "metadata": {
        "colab": {
          "base_uri": "https://localhost:8080/"
        },
        "id": "UCqTNvvPniHS",
        "outputId": "8fcec910-ba89-4aee-aca6-b23bfa10c44b"
      },
      "execution_count": null,
      "outputs": [
        {
          "output_type": "stream",
          "name": "stdout",
          "text": [
            "                            transaction_id        volume  sender_id  \\\n",
            "transaction_type                                                      \n",
            "Bank Transfer Transaction            37879   50605806190      23156   \n",
            "Payment Transaction                 398677   71851515181     139583   \n",
            "Split Bill Transaction                1376       4901464       1323   \n",
            "Top Up Money Transaction            290502  108606478829     110409   \n",
            "Transfer Money Transaction          341177   37033171492      39021   \n",
            "Withdraw Money Transaction           33725   23418181420      24814   \n",
            "\n",
            "                            receiver_id  \n",
            "transaction_type                         \n",
            "Bank Transfer Transaction          9271  \n",
            "Payment Transaction              113298  \n",
            "Split Bill Transaction              572  \n",
            "Top Up Money Transaction         110409  \n",
            "Transfer Money Transaction        34585  \n",
            "Withdraw Money Transaction        24814  \n"
          ]
        }
      ]
    }
  ]
}